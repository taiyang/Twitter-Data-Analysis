{
 "cells": [
  {
   "cell_type": "markdown",
   "metadata": {},
   "source": [
    "# DS577 Final Project - Spark Part"
   ]
  },
  {
   "cell_type": "markdown",
   "metadata": {},
   "source": [
    "**Note** Please be advised that the results were running on clusters. Some additional configurations may be needed when you reproduce the results locally."
   ]
  },
  {
   "cell_type": "markdown",
   "metadata": {},
   "source": [
    "**Acknowlegments** Thanks for the computing resources from Department of Computer Science, Rutgers University."
   ]
  },
  {
   "cell_type": "code",
   "execution_count": 1,
   "metadata": {
    "scrolled": true
   },
   "outputs": [
    {
     "name": "stdout",
     "output_type": "stream",
     "text": [
      "Starting Spark application\n"
     ]
    },
    {
     "data": {
      "text/html": [
       "<table>\n",
       "<tr><th>ID</th><th>YARN Application ID</th><th>Kind</th><th>State</th><th>Spark UI</th><th>Driver log</th><th>Current session?</th></tr><tr><td>517</td><td>application_1542400534304_0382</td><td>pyspark</td><td>idle</td><td><a target=\"_blank\" href=\"http://data-services3.cs.rutgers.edu:8088/proxy/application_1542400534304_0382/\">Link</a></td><td><a target=\"_blank\" href=\"http://data1.cs.rutgers.edu:8042/node/containerlogs/container_e57_1542400534304_0382_01_000001/xh182\">Link</a></td><td>✔</td></tr></table>"
      ],
      "text/plain": [
       "<IPython.core.display.HTML object>"
      ]
     },
     "metadata": {},
     "output_type": "display_data"
    },
    {
     "name": "stdout",
     "output_type": "stream",
     "text": [
      "SparkSession available as 'spark'.\n"
     ]
    }
   ],
   "source": [
    "sc = spark.sparkContext"
   ]
  },
  {
   "cell_type": "code",
   "execution_count": 2,
   "metadata": {},
   "outputs": [],
   "source": [
    "import json\n",
    "import pandas as pd"
   ]
  },
  {
   "cell_type": "markdown",
   "metadata": {},
   "source": [
    "## Bitcoin"
   ]
  },
  {
   "cell_type": "code",
   "execution_count": 20,
   "metadata": {},
   "outputs": [],
   "source": [
    "raw_lines = sc.textFile('twitter-raw/bitcoin.raw')"
   ]
  },
  {
   "cell_type": "markdown",
   "metadata": {},
   "source": [
    "### Most Authoriatative Account"
   ]
  },
  {
   "cell_type": "code",
   "execution_count": 21,
   "metadata": {},
   "outputs": [],
   "source": [
    "def map_func(line):\n",
    "    try:\n",
    "        tweet = json.loads(line)\n",
    "        return [tweet['user']['id_str'], tweet['user']['name'], tweet['user']['followers_count']]\n",
    "    except:\n",
    "        return None"
   ]
  },
  {
   "cell_type": "code",
   "execution_count": 14,
   "metadata": {},
   "outputs": [],
   "source": [
    "records = (\n",
    "    raw_lines\n",
    "        .map(lambda x: map_func(x))\n",
    "        .filter(lambda x: x is not None)\n",
    ")"
   ]
  },
  {
   "cell_type": "code",
   "execution_count": 16,
   "metadata": {},
   "outputs": [],
   "source": [
    "df = records.toDF()\n",
    "pandas_df = df.toPandas()"
   ]
  },
  {
   "cell_type": "code",
   "execution_count": 23,
   "metadata": {},
   "outputs": [
    {
     "name": "stdout",
     "output_type": "stream",
     "text": [
      "              _1                _2        _3\n",
      "13993    1652541  Reuters Top News  19991612\n",
      "56352   91478624            Forbes  14996057\n",
      "6347    37034483              NDTV  10995618\n",
      "699    124172948        La Patilla   6828592\n",
      "4650    14173315          NBC News   6260067\n",
      "1555    15872418      ABS-CBN News   5918143\n",
      "26265   20751449         The Hindu   5005645\n",
      "49843   34713362         Bloomberg   5002254\n",
      "53620     624413       MarketWatch   3599891\n",
      "46235   20402945              CNBC   3008531"
     ]
    }
   ],
   "source": [
    "pandas_df.sort_values(by='_3', ascending=False).drop_duplicates(subset='_1').head(10)"
   ]
  },
  {
   "cell_type": "markdown",
   "metadata": {},
   "source": [
    "### Most Retweets"
   ]
  },
  {
   "cell_type": "code",
   "execution_count": 22,
   "metadata": {},
   "outputs": [],
   "source": [
    "def map_rt(line):\n",
    "    try:\n",
    "        tweet = json.loads(line)\n",
    "        if 'retweeted_status' in tweet:\n",
    "            origin_tweet = tweet['retweeted_status']\n",
    "            return [origin_tweet['id_str'], origin_tweet['text'], origin_tweet['retweet_count']]\n",
    "    except:\n",
    "        return None"
   ]
  },
  {
   "cell_type": "code",
   "execution_count": 23,
   "metadata": {},
   "outputs": [],
   "source": [
    "retweets = (\n",
    "    raw_lines\n",
    "        .map(lambda x: map_rt(x))\n",
    "        .filter(lambda x: x is not None)\n",
    ")"
   ]
  },
  {
   "cell_type": "code",
   "execution_count": 29,
   "metadata": {},
   "outputs": [
    {
     "name": "stdout",
     "output_type": "stream",
     "text": [
      "                        _1  ...       _3\n",
      "18426  1050944089053519872  ...    13363\n",
      "4398   1054520588734058496  ...     8951\n",
      "2316    935900326007328768  ...     7042\n",
      "10549  1030187498109067264  ...     5812\n",
      "15059  1045274485954433024  ...     5031\n",
      "23474  1038367786349854721  ...     3813\n",
      "19101  1052259344685965318  ...     3431\n",
      "15253  1022431002084487168  ...     3269\n",
      "11499  1060224184176050176  ...     3196\n",
      "22577  1064141922183335936  ...     2863\n",
      "\n",
      "[10 rows x 3 columns]"
     ]
    }
   ],
   "source": [
    "pandas_df = retweets.toDF().toPandas()\n",
    "sorted_table = pandas_df.sort_values(by='_3', ascending=False).drop_duplicates(subset='_1')\n",
    "sorted_table.head(10)"
   ]
  },
  {
   "cell_type": "code",
   "execution_count": 47,
   "metadata": {},
   "outputs": [
    {
     "name": "stdout",
     "output_type": "stream",
     "text": [
      "18426    UNIQUE SELLING POINT(USP)\\nUse your Alpha-X re...\n",
      "4398     @vicentes @Grimezsz Wanna buy some Bitcoin? 😉😉...\n",
      "2316     When I predicted Bitcoin at $500,000 by the en...\n",
      "10549    AIRDROP IS RUNNING!\\nGet your free DOS Token n...\n",
      "15059    Connecty is the first #blockchain platform ded...\n",
      "23474    Trakx is announcing the https://t.co/uhz62eKx2...\n",
      "19101    ICO IS LIVE! Go to https://t.co/gS1qemNkRx and...\n",
      "15253    SOCIALREMIT Airdrop has started!\\nFREE up to 2...\n",
      "11499    If I Fail No Nut November I Will Give Away One...\n",
      "22577    About time someone spoke truth to power.\\n\\nLo...\n",
      "Name: _2, dtype: object"
     ]
    }
   ],
   "source": [
    "sorted_table.head(10)['_2']"
   ]
  },
  {
   "cell_type": "markdown",
   "metadata": {},
   "source": [
    "### Language"
   ]
  },
  {
   "cell_type": "code",
   "execution_count": 13,
   "metadata": {},
   "outputs": [],
   "source": [
    "file_ = sc.textFile('twitter-raw/lang-code')\n",
    "dict_ = file_.map(lambda x: (x.split(' - ')[1].rstrip('\\n'), x.split(' - ')[0]))\n",
    "lang_code = dict_.collectAsMap()\n",
    "lang_code['und'] = 'undefined'"
   ]
  },
  {
   "cell_type": "code",
   "execution_count": 14,
   "metadata": {},
   "outputs": [],
   "source": [
    "def map_lang(line):\n",
    "    try:\n",
    "        tweet = json.loads(line)\n",
    "        return (tweet['lang'], 1)\n",
    "    except:\n",
    "        return None"
   ]
  },
  {
   "cell_type": "code",
   "execution_count": 17,
   "metadata": {},
   "outputs": [],
   "source": [
    "from operator import add\n",
    "langs = (\n",
    "    raw_lines\n",
    "        .map(lambda x: map_lang(x))\n",
    "        .filter(lambda x: x is not None)\n",
    "        .reduceByKey(add)\n",
    ")"
   ]
  },
  {
   "cell_type": "code",
   "execution_count": 21,
   "metadata": {},
   "outputs": [],
   "source": [
    "lang_table = langs.toDF().toPandas()\n",
    "lang_table['Language'] = lang_table['_1'].apply(lambda x: lang_code[x] if x in lang_code else 'unknown')"
   ]
  },
  {
   "cell_type": "code",
   "execution_count": 48,
   "metadata": {},
   "outputs": [
    {
     "name": "stdout",
     "output_type": "stream",
     "text": [
      "     _1     _2    Language\n",
      "15   en  44801     English\n",
      "1   und   3018   undefined\n",
      "2    ja   2270    Japanese\n",
      "3    es   1609     Spanish\n",
      "27   fr   1171      French\n",
      "32   tr    640     Turkish\n",
      "26   in    621  Indonesian\n",
      "4    de    432      German\n",
      "16   pt    324  Portuguese\n",
      "0    it    316     Italian"
     ]
    }
   ],
   "source": [
    "lang_table.sort_values(by='_2', ascending=False).head(10)"
   ]
  },
  {
   "cell_type": "markdown",
   "metadata": {},
   "source": [
    "## Thanksgiving"
   ]
  },
  {
   "cell_type": "code",
   "execution_count": 54,
   "metadata": {},
   "outputs": [],
   "source": [
    "raw_lines = sc.textFile('twitter-raw/tweets.raw')"
   ]
  },
  {
   "cell_type": "markdown",
   "metadata": {},
   "source": [
    "### Most Authoriatative Account"
   ]
  },
  {
   "cell_type": "code",
   "execution_count": 4,
   "metadata": {},
   "outputs": [],
   "source": [
    "def map_func(line):\n",
    "    try:\n",
    "        tweet = json.loads(line)\n",
    "        return [tweet['user']['id_str'], tweet['user']['name'], tweet['user']['followers_count']]\n",
    "    except:\n",
    "        return None"
   ]
  },
  {
   "cell_type": "code",
   "execution_count": 5,
   "metadata": {},
   "outputs": [],
   "source": [
    "records = (\n",
    "    raw_lines\n",
    "        .map(lambda x: map_func(x))\n",
    "        .filter(lambda x: x is not None)\n",
    ")"
   ]
  },
  {
   "cell_type": "code",
   "execution_count": 6,
   "metadata": {},
   "outputs": [],
   "source": [
    "df = records.toDF()\n",
    "pandas_df = df.toPandas()"
   ]
  },
  {
   "cell_type": "code",
   "execution_count": 7,
   "metadata": {},
   "outputs": [
    {
     "name": "stdout",
     "output_type": "stream",
     "text": [
      "               _1                       _2        _3\n",
      "305394     807095       The New York Times  42341389\n",
      "223134     759251                      CNN  40775502\n",
      "97700   169686021                       ye  28642036\n",
      "103971     742143         BBC News (World)  24087709\n",
      "274303   17471979      National Geographic  22352000\n",
      "270730    1652541         Reuters Top News  19992916\n",
      "176711    3108351  The Wall Street Journal  16149026\n",
      "303933   28785486                 ABC News  13964238\n",
      "247033  136361303           Vogue Magazine  13549559\n",
      "210918    2467791      The Washington Post  13070373"
     ]
    }
   ],
   "source": [
    "pandas_df.sort_values(by='_3', ascending=False).drop_duplicates(subset='_1').head(10)"
   ]
  },
  {
   "cell_type": "markdown",
   "metadata": {},
   "source": [
    "### Most Retweets"
   ]
  },
  {
   "cell_type": "code",
   "execution_count": 55,
   "metadata": {},
   "outputs": [],
   "source": [
    "def map_rt(line):\n",
    "    try:\n",
    "        tweet = json.loads(line)\n",
    "        if 'retweeted_status' in tweet:\n",
    "            origin_tweet = tweet['retweeted_status']\n",
    "            return [origin_tweet['id_str'], origin_tweet['text'], origin_tweet['retweet_count']]\n",
    "    except:\n",
    "        return None"
   ]
  },
  {
   "cell_type": "code",
   "execution_count": 56,
   "metadata": {},
   "outputs": [],
   "source": [
    "retweets = (\n",
    "    raw_lines\n",
    "        .map(lambda x: map_rt(x))\n",
    "        .filter(lambda x: x is not None)\n",
    ")"
   ]
  },
  {
   "cell_type": "code",
   "execution_count": 57,
   "metadata": {},
   "outputs": [
    {
     "name": "stdout",
     "output_type": "stream",
     "text": [
      "                         _1   ...        _3\n",
      "66695    933707825821421568   ...    208932\n",
      "183153   931342169788395520   ...    143189\n",
      "202431  1063550295408549889   ...    106868\n",
      "195627   928496752889679872   ...     98105\n",
      "101770   933712342319288320   ...     90144\n",
      "75233    933919161226424320   ...     80388\n",
      "111853  1017252290493845506   ...     77569\n",
      "112916  1053685710828552192   ...     69519\n",
      "193555   405778664039534592   ...     68009\n",
      "42001    798656192071372801   ...     64668\n",
      "\n",
      "[10 rows x 3 columns]"
     ]
    }
   ],
   "source": [
    "pandas_df = retweets.toDF().toPandas()\n",
    "sorted_table = pandas_df.sort_values(by='_3', ascending=False).drop_duplicates(subset='_1')\n",
    "sorted_table.head(10)"
   ]
  },
  {
   "cell_type": "code",
   "execution_count": 12,
   "metadata": {},
   "outputs": [
    {
     "name": "stdout",
     "output_type": "stream",
     "text": [
      "66695     From the Obama family to yours, we wish you a ...\n",
      "183153    Just a reminder last year on Thanksgiving that...\n",
      "202431    Both of you need to be in prison https://t.co/...\n",
      "195627    *knocks on door*\\nMcConaughey: “Do you have a ...\n",
      "101770    Happy thanksgiving to this woman only https://...\n",
      "75233     Happy Thanksgiving everyone. Hope you're havin...\n",
      "111853    *Thanksgiving dinner 2080*\\nMe (has dementia):...\n",
      "112916    Thanksgiving 5 weeks aways yall got yall outfi...\n",
      "193555    Happy Thanksgiving to all--even the haters and...\n",
      "42001     You're supposed to bake these ? We bust em up ...\n",
      "Name: _2, dtype: object"
     ]
    }
   ],
   "source": [
    "# Retweets content\n",
    "sorted_table.head(10)['_2']"
   ]
  },
  {
   "cell_type": "markdown",
   "metadata": {},
   "source": [
    "### Language"
   ]
  },
  {
   "cell_type": "code",
   "execution_count": 15,
   "metadata": {},
   "outputs": [],
   "source": [
    "file_ = sc.textFile('twitter-raw/lang-code')\n",
    "dict_ = file_.map(lambda x: (x.split(' - ')[1].rstrip('\\n'), x.split(' - ')[0]))\n",
    "lang_code = dict_.collectAsMap()\n",
    "lang_code['und'] = 'undefined'"
   ]
  },
  {
   "cell_type": "code",
   "execution_count": 16,
   "metadata": {},
   "outputs": [],
   "source": [
    "def map_lang(line):\n",
    "    try:\n",
    "        tweet = json.loads(line)\n",
    "        return (tweet['lang'], 1)\n",
    "    except:\n",
    "        return None"
   ]
  },
  {
   "cell_type": "code",
   "execution_count": 17,
   "metadata": {},
   "outputs": [],
   "source": [
    "from operator import add\n",
    "langs = (\n",
    "    raw_lines\n",
    "        .map(lambda x: map_lang(x))\n",
    "        .filter(lambda x: x is not None)\n",
    "        .reduceByKey(add)\n",
    ")"
   ]
  },
  {
   "cell_type": "code",
   "execution_count": 18,
   "metadata": {},
   "outputs": [],
   "source": [
    "lang_table = langs.toDF().toPandas()\n",
    "lang_table['Language'] = lang_table['_1'].apply(lambda x: lang_code[x] if x in lang_code else 'unknown')"
   ]
  },
  {
   "cell_type": "code",
   "execution_count": 19,
   "metadata": {},
   "outputs": [
    {
     "name": "stdout",
     "output_type": "stream",
     "text": [
      "     _1      _2    Language\n",
      "23   en  313184     English\n",
      "0   und    4987   undefined\n",
      "41   ja    3152    Japanese\n",
      "42   es    1833     Spanish\n",
      "29   fr     672      French\n",
      "5    tl     377     Tagalog\n",
      "1    pt     317  Portuguese\n",
      "22   de     245      German\n",
      "14   in     199  Indonesian\n",
      "6    ht     160     Haitian"
     ]
    }
   ],
   "source": [
    "lang_table.sort_values(by='_2', ascending=False).head(10)"
   ]
  },
  {
   "cell_type": "markdown",
   "metadata": {},
   "source": [
    "&copy; 2018, Tai Yang, Ruixuan Song"
   ]
  }
 ],
 "metadata": {
  "kernelspec": {
   "display_name": "PySpark",
   "language": "",
   "name": "pysparkkernel"
  },
  "language_info": {
   "codemirror_mode": {
    "name": "python",
    "version": 2
   },
   "mimetype": "text/x-python",
   "name": "pyspark",
   "pygments_lexer": "python2"
  }
 },
 "nbformat": 4,
 "nbformat_minor": 2
}

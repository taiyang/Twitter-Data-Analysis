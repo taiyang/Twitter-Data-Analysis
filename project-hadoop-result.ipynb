{
 "cells": [
  {
   "cell_type": "markdown",
   "metadata": {},
   "source": [
    "# DS577 Final Project - Hadoop Results Loading"
   ]
  },
  {
   "cell_type": "markdown",
   "metadata": {},
   "source": [
    "**Note** Please be advised that the results were running on clusters. Some additional configurations may be needed when you reproduce the results locally."
   ]
  },
  {
   "cell_type": "markdown",
   "metadata": {},
   "source": [
    "**Acknowlegments** Thanks for the computing resources from Department of Computer Science, Rutgers University."
   ]
  },
  {
   "cell_type": "code",
   "execution_count": 2,
   "metadata": {},
   "outputs": [],
   "source": [
    "import json\n",
    "import pandas as pd"
   ]
  },
  {
   "cell_type": "markdown",
   "metadata": {},
   "source": [
    "## Top Hashtags"
   ]
  },
  {
   "cell_type": "markdown",
   "metadata": {},
   "source": [
    "### Bitcoin"
   ]
  },
  {
   "cell_type": "code",
   "execution_count": 16,
   "metadata": {},
   "outputs": [
    {
     "data": {
      "text/html": [
       "<div>\n",
       "<style>\n",
       "    .dataframe thead tr:only-child th {\n",
       "        text-align: right;\n",
       "    }\n",
       "\n",
       "    .dataframe thead th {\n",
       "        text-align: left;\n",
       "    }\n",
       "\n",
       "    .dataframe tbody tr th {\n",
       "        vertical-align: top;\n",
       "    }\n",
       "</style>\n",
       "<table border=\"1\" class=\"dataframe\">\n",
       "  <thead>\n",
       "    <tr style=\"text-align: right;\">\n",
       "      <th></th>\n",
       "      <th>0</th>\n",
       "      <th>1</th>\n",
       "    </tr>\n",
       "  </thead>\n",
       "  <tbody>\n",
       "    <tr>\n",
       "      <th>1402</th>\n",
       "      <td>IoT</td>\n",
       "      <td>8064</td>\n",
       "    </tr>\n",
       "    <tr>\n",
       "      <th>2821</th>\n",
       "      <td>bitcoin</td>\n",
       "      <td>7379</td>\n",
       "    </tr>\n",
       "    <tr>\n",
       "      <th>737</th>\n",
       "      <td>Crypto</td>\n",
       "      <td>7188</td>\n",
       "    </tr>\n",
       "    <tr>\n",
       "      <th>1317</th>\n",
       "      <td>ICO</td>\n",
       "      <td>6827</td>\n",
       "    </tr>\n",
       "    <tr>\n",
       "      <th>2304</th>\n",
       "      <td>ThingCoin</td>\n",
       "      <td>6511</td>\n",
       "    </tr>\n",
       "    <tr>\n",
       "      <th>356</th>\n",
       "      <td>Bitcoin</td>\n",
       "      <td>5710</td>\n",
       "    </tr>\n",
       "    <tr>\n",
       "      <th>470</th>\n",
       "      <td>BlockChain</td>\n",
       "      <td>4144</td>\n",
       "    </tr>\n",
       "    <tr>\n",
       "      <th>95</th>\n",
       "      <td>Agile</td>\n",
       "      <td>3771</td>\n",
       "    </tr>\n",
       "    <tr>\n",
       "      <th>889</th>\n",
       "      <td>DevOps</td>\n",
       "      <td>2887</td>\n",
       "    </tr>\n",
       "    <tr>\n",
       "      <th>2397</th>\n",
       "      <td>UX</td>\n",
       "      <td>2776</td>\n",
       "    </tr>\n",
       "  </tbody>\n",
       "</table>\n",
       "</div>"
      ],
      "text/plain": [
       "               0     1\n",
       "1402         IoT  8064\n",
       "2821     bitcoin  7379\n",
       "737       Crypto  7188\n",
       "1317         ICO  6827\n",
       "2304   ThingCoin  6511\n",
       "356      Bitcoin  5710\n",
       "470   BlockChain  4144\n",
       "95         Agile  3771\n",
       "889       DevOps  2887\n",
       "2397          UX  2776"
      ]
     },
     "execution_count": 16,
     "metadata": {},
     "output_type": "execute_result"
    }
   ],
   "source": [
    "data = pd.read_csv('out/bitcoin-output/part-00000', sep=' ', header=None)\n",
    "data.sort_values(by=1,ascending=False).head(10)"
   ]
  },
  {
   "cell_type": "markdown",
   "metadata": {},
   "source": [
    "### Thanksgiving"
   ]
  },
  {
   "cell_type": "code",
   "execution_count": 85,
   "metadata": {},
   "outputs": [
    {
     "data": {
      "text/html": [
       "<div>\n",
       "<style>\n",
       "    .dataframe thead tr:only-child th {\n",
       "        text-align: right;\n",
       "    }\n",
       "\n",
       "    .dataframe thead th {\n",
       "        text-align: left;\n",
       "    }\n",
       "\n",
       "    .dataframe tbody tr th {\n",
       "        vertical-align: top;\n",
       "    }\n",
       "</style>\n",
       "<table border=\"1\" class=\"dataframe\">\n",
       "  <thead>\n",
       "    <tr style=\"text-align: right;\">\n",
       "      <th></th>\n",
       "      <th>0</th>\n",
       "      <th>1</th>\n",
       "    </tr>\n",
       "  </thead>\n",
       "  <tbody>\n",
       "    <tr>\n",
       "      <th>7310</th>\n",
       "      <td>Thanksgiving</td>\n",
       "      <td>17122</td>\n",
       "    </tr>\n",
       "    <tr>\n",
       "      <th>15364</th>\n",
       "      <td>thanksgiving</td>\n",
       "      <td>2588</td>\n",
       "    </tr>\n",
       "    <tr>\n",
       "      <th>7377</th>\n",
       "      <td>ThanksgivingWeek</td>\n",
       "      <td>869</td>\n",
       "    </tr>\n",
       "    <tr>\n",
       "      <th>7250</th>\n",
       "      <td>ThankUNext</td>\n",
       "      <td>834</td>\n",
       "    </tr>\n",
       "    <tr>\n",
       "      <th>484</th>\n",
       "      <td>Arianators</td>\n",
       "      <td>832</td>\n",
       "    </tr>\n",
       "    <tr>\n",
       "      <th>6965</th>\n",
       "      <td>SweetenerWorldTour</td>\n",
       "      <td>832</td>\n",
       "    </tr>\n",
       "    <tr>\n",
       "      <th>1266</th>\n",
       "      <td>Camilizers</td>\n",
       "      <td>830</td>\n",
       "    </tr>\n",
       "    <tr>\n",
       "      <th>7251</th>\n",
       "      <td>ThankUNextChallenge</td>\n",
       "      <td>830</td>\n",
       "    </tr>\n",
       "    <tr>\n",
       "      <th>3355</th>\n",
       "      <td>HappyThanksgiving</td>\n",
       "      <td>597</td>\n",
       "    </tr>\n",
       "    <tr>\n",
       "      <th>7575</th>\n",
       "      <td>ThisIsUs</td>\n",
       "      <td>493</td>\n",
       "    </tr>\n",
       "  </tbody>\n",
       "</table>\n",
       "</div>"
      ],
      "text/plain": [
       "                         0      1\n",
       "7310          Thanksgiving  17122\n",
       "15364         thanksgiving   2588\n",
       "7377      ThanksgivingWeek    869\n",
       "7250            ThankUNext    834\n",
       "484             Arianators    832\n",
       "6965    SweetenerWorldTour    832\n",
       "1266            Camilizers    830\n",
       "7251   ThankUNextChallenge    830\n",
       "3355     HappyThanksgiving    597\n",
       "7575              ThisIsUs    493"
      ]
     },
     "execution_count": 85,
     "metadata": {},
     "output_type": "execute_result"
    }
   ],
   "source": [
    "data = pd.read_csv('out/thanksgiving-hashtags/part-00000', sep=' ', header=None)\n",
    "data.sort_values(by=1,ascending=False).head(10)"
   ]
  },
  {
   "cell_type": "markdown",
   "metadata": {},
   "source": [
    "## Top URLs"
   ]
  },
  {
   "cell_type": "markdown",
   "metadata": {},
   "source": [
    "### Bitcoin"
   ]
  },
  {
   "cell_type": "code",
   "execution_count": 82,
   "metadata": {},
   "outputs": [
    {
     "data": {
      "text/html": [
       "<div>\n",
       "<style>\n",
       "    .dataframe thead tr:only-child th {\n",
       "        text-align: right;\n",
       "    }\n",
       "\n",
       "    .dataframe thead th {\n",
       "        text-align: left;\n",
       "    }\n",
       "\n",
       "    .dataframe tbody tr th {\n",
       "        vertical-align: top;\n",
       "    }\n",
       "</style>\n",
       "<table border=\"1\" class=\"dataframe\">\n",
       "  <thead>\n",
       "    <tr style=\"text-align: right;\">\n",
       "      <th></th>\n",
       "      <th>0</th>\n",
       "      <th>1</th>\n",
       "      <th>2</th>\n",
       "    </tr>\n",
       "  </thead>\n",
       "  <tbody>\n",
       "    <tr>\n",
       "      <th>9573</th>\n",
       "      <td>https://t.co/NHZPFXjUAT</td>\n",
       "      <td>https://aerotrips.com/shop</td>\n",
       "      <td>253</td>\n",
       "    </tr>\n",
       "    <tr>\n",
       "      <th>14655</th>\n",
       "      <td>https://t.co/ZxiXQ1otbZ</td>\n",
       "      <td>http://discord.gg/SBM97UK</td>\n",
       "      <td>144</td>\n",
       "    </tr>\n",
       "    <tr>\n",
       "      <th>19803</th>\n",
       "      <td>https://t.co/mTYFIUHzyn</td>\n",
       "      <td>https://link.medium.com/CHR09k8AXR</td>\n",
       "      <td>98</td>\n",
       "    </tr>\n",
       "    <tr>\n",
       "      <th>23451</th>\n",
       "      <td>https://t.co/vGYRBQQHmJ</td>\n",
       "      <td>http://t.me/queen_signalsss</td>\n",
       "      <td>80</td>\n",
       "    </tr>\n",
       "    <tr>\n",
       "      <th>12340</th>\n",
       "      <td>https://t.co/UEQpkhEmyP</td>\n",
       "      <td>https://twitter.com/fredCwam/status/1065171503...</td>\n",
       "      <td>79</td>\n",
       "    </tr>\n",
       "    <tr>\n",
       "      <th>25040</th>\n",
       "      <td>https://t.co/z5qQl5yshR</td>\n",
       "      <td>http://catex.io</td>\n",
       "      <td>78</td>\n",
       "    </tr>\n",
       "    <tr>\n",
       "      <th>138</th>\n",
       "      <td>https://t.co/0K2M3aPaqK</td>\n",
       "      <td>https://twitter.com/f4izalhassan/status/106450...</td>\n",
       "      <td>72</td>\n",
       "    </tr>\n",
       "    <tr>\n",
       "      <th>14842</th>\n",
       "      <td>https://t.co/aNzSa7iXS5</td>\n",
       "      <td>https://www.cryptohedgef.com/</td>\n",
       "      <td>71</td>\n",
       "    </tr>\n",
       "    <tr>\n",
       "      <th>4706</th>\n",
       "      <td>https://t.co/BQMFrJ8FQQ</td>\n",
       "      <td>https://twitter.com/newsycombinator/status/105...</td>\n",
       "      <td>68</td>\n",
       "    </tr>\n",
       "    <tr>\n",
       "      <th>6953</th>\n",
       "      <td>https://t.co/GxjCOsr6PR</td>\n",
       "      <td>http://youtu.be/e_9QouZWUvc</td>\n",
       "      <td>67</td>\n",
       "    </tr>\n",
       "  </tbody>\n",
       "</table>\n",
       "</div>"
      ],
      "text/plain": [
       "                             0  \\\n",
       "9573   https://t.co/NHZPFXjUAT   \n",
       "14655  https://t.co/ZxiXQ1otbZ   \n",
       "19803  https://t.co/mTYFIUHzyn   \n",
       "23451  https://t.co/vGYRBQQHmJ   \n",
       "12340  https://t.co/UEQpkhEmyP   \n",
       "25040  https://t.co/z5qQl5yshR   \n",
       "138    https://t.co/0K2M3aPaqK   \n",
       "14842  https://t.co/aNzSa7iXS5   \n",
       "4706   https://t.co/BQMFrJ8FQQ   \n",
       "6953   https://t.co/GxjCOsr6PR   \n",
       "\n",
       "                                                       1    2  \n",
       "9573                          https://aerotrips.com/shop  253  \n",
       "14655                          http://discord.gg/SBM97UK  144  \n",
       "19803                 https://link.medium.com/CHR09k8AXR   98  \n",
       "23451                        http://t.me/queen_signalsss   80  \n",
       "12340  https://twitter.com/fredCwam/status/1065171503...   79  \n",
       "25040                                    http://catex.io   78  \n",
       "138    https://twitter.com/f4izalhassan/status/106450...   72  \n",
       "14842                      https://www.cryptohedgef.com/   71  \n",
       "4706   https://twitter.com/newsycombinator/status/105...   68  \n",
       "6953                         http://youtu.be/e_9QouZWUvc   67  "
      ]
     },
     "execution_count": 82,
     "metadata": {},
     "output_type": "execute_result"
    }
   ],
   "source": [
    "urls = pd.read_csv('out/bitcoin-url/part-00000', sep=' ', header=None)\n",
    "urls.sort_values(by=2,ascending=False).head(10)"
   ]
  },
  {
   "cell_type": "markdown",
   "metadata": {},
   "source": [
    "### Thanksgiving"
   ]
  },
  {
   "cell_type": "code",
   "execution_count": 83,
   "metadata": {},
   "outputs": [
    {
     "data": {
      "text/html": [
       "<div>\n",
       "<style>\n",
       "    .dataframe thead tr:only-child th {\n",
       "        text-align: right;\n",
       "    }\n",
       "\n",
       "    .dataframe thead th {\n",
       "        text-align: left;\n",
       "    }\n",
       "\n",
       "    .dataframe tbody tr th {\n",
       "        vertical-align: top;\n",
       "    }\n",
       "</style>\n",
       "<table border=\"1\" class=\"dataframe\">\n",
       "  <thead>\n",
       "    <tr style=\"text-align: right;\">\n",
       "      <th></th>\n",
       "      <th>0</th>\n",
       "      <th>1</th>\n",
       "      <th>2</th>\n",
       "    </tr>\n",
       "  </thead>\n",
       "  <tbody>\n",
       "    <tr>\n",
       "      <th>12043</th>\n",
       "      <td>https://t.co/BPbOJ4l42p</td>\n",
       "      <td>https://twitter.com/iilcollegegirl/status/1064...</td>\n",
       "      <td>5287</td>\n",
       "    </tr>\n",
       "    <tr>\n",
       "      <th>52707</th>\n",
       "      <td>https://t.co/oRtOxbdQVO</td>\n",
       "      <td>https://twitter.com/joshscampbell/status/10649...</td>\n",
       "      <td>2360</td>\n",
       "    </tr>\n",
       "    <tr>\n",
       "      <th>26553</th>\n",
       "      <td>https://t.co/PFsJ2mnGKi</td>\n",
       "      <td>http://ABCNews.com/live</td>\n",
       "      <td>1362</td>\n",
       "    </tr>\n",
       "    <tr>\n",
       "      <th>25137</th>\n",
       "      <td>https://t.co/Nsl3pT2sQ9</td>\n",
       "      <td>https://twitter.com/vidcon/status/106454558479...</td>\n",
       "      <td>747</td>\n",
       "    </tr>\n",
       "    <tr>\n",
       "      <th>64953</th>\n",
       "      <td>https://t.co/zwSKByv3Hm</td>\n",
       "      <td>https://twitter.com/kylegriffin1/status/106498...</td>\n",
       "      <td>688</td>\n",
       "    </tr>\n",
       "    <tr>\n",
       "      <th>28771</th>\n",
       "      <td>https://t.co/ROFcbZN3Qy</td>\n",
       "      <td>https://twitter.com/mikeseidel/status/10648878...</td>\n",
       "      <td>688</td>\n",
       "    </tr>\n",
       "    <tr>\n",
       "      <th>37951</th>\n",
       "      <td>https://t.co/aGcMnIzb1W</td>\n",
       "      <td>https://twitter.com/darrenrovell/status/106506...</td>\n",
       "      <td>473</td>\n",
       "    </tr>\n",
       "    <tr>\n",
       "      <th>47684</th>\n",
       "      <td>https://t.co/jaQwhF40QF</td>\n",
       "      <td>https://twitter.com/mommmasaid/status/10628705...</td>\n",
       "      <td>465</td>\n",
       "    </tr>\n",
       "    <tr>\n",
       "      <th>49824</th>\n",
       "      <td>https://t.co/ldey1SFhnh</td>\n",
       "      <td>https://twitter.com/VidCon/status/106454558479...</td>\n",
       "      <td>369</td>\n",
       "    </tr>\n",
       "    <tr>\n",
       "      <th>35642</th>\n",
       "      <td>https://t.co/Y0MtG0bxyI</td>\n",
       "      <td>https://www.amazon.com/dp/B07GNPN629</td>\n",
       "      <td>241</td>\n",
       "    </tr>\n",
       "  </tbody>\n",
       "</table>\n",
       "</div>"
      ],
      "text/plain": [
       "                             0  \\\n",
       "12043  https://t.co/BPbOJ4l42p   \n",
       "52707  https://t.co/oRtOxbdQVO   \n",
       "26553  https://t.co/PFsJ2mnGKi   \n",
       "25137  https://t.co/Nsl3pT2sQ9   \n",
       "64953  https://t.co/zwSKByv3Hm   \n",
       "28771  https://t.co/ROFcbZN3Qy   \n",
       "37951  https://t.co/aGcMnIzb1W   \n",
       "47684  https://t.co/jaQwhF40QF   \n",
       "49824  https://t.co/ldey1SFhnh   \n",
       "35642  https://t.co/Y0MtG0bxyI   \n",
       "\n",
       "                                                       1     2  \n",
       "12043  https://twitter.com/iilcollegegirl/status/1064...  5287  \n",
       "52707  https://twitter.com/joshscampbell/status/10649...  2360  \n",
       "26553                            http://ABCNews.com/live  1362  \n",
       "25137  https://twitter.com/vidcon/status/106454558479...   747  \n",
       "64953  https://twitter.com/kylegriffin1/status/106498...   688  \n",
       "28771  https://twitter.com/mikeseidel/status/10648878...   688  \n",
       "37951  https://twitter.com/darrenrovell/status/106506...   473  \n",
       "47684  https://twitter.com/mommmasaid/status/10628705...   465  \n",
       "49824  https://twitter.com/VidCon/status/106454558479...   369  \n",
       "35642               https://www.amazon.com/dp/B07GNPN629   241  "
      ]
     },
     "execution_count": 83,
     "metadata": {},
     "output_type": "execute_result"
    }
   ],
   "source": [
    "urls = pd.read_csv('out/thanksgiving-url/part-00000', sep=' ', header=None)\n",
    "urls.sort_values(by=2,ascending=False).head(10)"
   ]
  },
  {
   "cell_type": "markdown",
   "metadata": {},
   "source": [
    "## Top Significant words"
   ]
  },
  {
   "cell_type": "code",
   "execution_count": 76,
   "metadata": {},
   "outputs": [],
   "source": [
    "# Process stopwords\n",
    "from wordcloud import WordCloud, STOPWORDS \n",
    "stopword = set()\n",
    "stopword.update(list(string.punctuation))\n",
    "stopword.update(list(string.ascii_lowercase))\n",
    "stopword.update(list(string.ascii_uppercase))\n",
    "stopword.update(list(string.digits))\n",
    "stopword.update(STOPWORDS)"
   ]
  },
  {
   "cell_type": "markdown",
   "metadata": {},
   "source": [
    "### Bitcoin"
   ]
  },
  {
   "cell_type": "code",
   "execution_count": 101,
   "metadata": {},
   "outputs": [
    {
     "data": {
      "text/html": [
       "<div>\n",
       "<style>\n",
       "    .dataframe thead tr:only-child th {\n",
       "        text-align: right;\n",
       "    }\n",
       "\n",
       "    .dataframe thead th {\n",
       "        text-align: left;\n",
       "    }\n",
       "\n",
       "    .dataframe tbody tr th {\n",
       "        vertical-align: top;\n",
       "    }\n",
       "</style>\n",
       "<table border=\"1\" class=\"dataframe\">\n",
       "  <thead>\n",
       "    <tr style=\"text-align: right;\">\n",
       "      <th></th>\n",
       "      <th>0</th>\n",
       "      <th>1</th>\n",
       "    </tr>\n",
       "  </thead>\n",
       "  <tbody>\n",
       "    <tr>\n",
       "      <th>21800</th>\n",
       "      <td>RT</td>\n",
       "      <td>28204</td>\n",
       "    </tr>\n",
       "    <tr>\n",
       "      <th>9106</th>\n",
       "      <td>Bitcoin</td>\n",
       "      <td>22796</td>\n",
       "    </tr>\n",
       "    <tr>\n",
       "      <th>29516</th>\n",
       "      <td>bitcoin</td>\n",
       "      <td>10906</td>\n",
       "    </tr>\n",
       "    <tr>\n",
       "      <th>11605</th>\n",
       "      <td>Crypto</td>\n",
       "      <td>8712</td>\n",
       "    </tr>\n",
       "    <tr>\n",
       "      <th>16695</th>\n",
       "      <td>IoT</td>\n",
       "      <td>8114</td>\n",
       "    </tr>\n",
       "    <tr>\n",
       "      <th>16106</th>\n",
       "      <td>ICO</td>\n",
       "      <td>7044</td>\n",
       "    </tr>\n",
       "    <tr>\n",
       "      <th>24777</th>\n",
       "      <td>ThingCoin</td>\n",
       "      <td>6511</td>\n",
       "    </tr>\n",
       "    <tr>\n",
       "      <th>25645</th>\n",
       "      <td>UserExperienceU</td>\n",
       "      <td>6204</td>\n",
       "    </tr>\n",
       "    <tr>\n",
       "      <th>9565</th>\n",
       "      <td>BlockChain</td>\n",
       "      <td>3803</td>\n",
       "    </tr>\n",
       "    <tr>\n",
       "      <th>8432</th>\n",
       "      <td>BTC</td>\n",
       "      <td>3751</td>\n",
       "    </tr>\n",
       "  </tbody>\n",
       "</table>\n",
       "</div>"
      ],
      "text/plain": [
       "                     0      1\n",
       "21800               RT  28204\n",
       "9106           Bitcoin  22796\n",
       "29516          bitcoin  10906\n",
       "11605           Crypto   8712\n",
       "16695              IoT   8114\n",
       "16106              ICO   7044\n",
       "24777        ThingCoin   6511\n",
       "25645  UserExperienceU   6204\n",
       "9565        BlockChain   3803\n",
       "8432               BTC   3751"
      ]
     },
     "execution_count": 101,
     "metadata": {},
     "output_type": "execute_result"
    }
   ],
   "source": [
    "# Top significant word results\n",
    "table = pd.read_csv('out/bitcoin-top-word/part-00000', sep=' ', header=None, quoting=3)\n",
    "table.loc[~table[0].str.lower().isin(stopword),:].sort_values(1, ascending=False).head(10)"
   ]
  },
  {
   "cell_type": "code",
   "execution_count": 123,
   "metadata": {},
   "outputs": [],
   "source": [
    "text_bitcoin = ''\n",
    "sorted_table = table.loc[~table[0].str.lower().isin(stopword),:].sort_values(1, ascending=False).head(50)\n",
    "for word in sorted_table[0]:\n",
    "    text_bitcoin = text_bitcoin + str(word) + ' '"
   ]
  },
  {
   "cell_type": "markdown",
   "metadata": {},
   "source": [
    "### Thanksgiving"
   ]
  },
  {
   "cell_type": "code",
   "execution_count": 126,
   "metadata": {},
   "outputs": [
    {
     "data": {
      "text/html": [
       "<div>\n",
       "<style>\n",
       "    .dataframe thead tr:only-child th {\n",
       "        text-align: right;\n",
       "    }\n",
       "\n",
       "    .dataframe thead th {\n",
       "        text-align: left;\n",
       "    }\n",
       "\n",
       "    .dataframe tbody tr th {\n",
       "        vertical-align: top;\n",
       "    }\n",
       "</style>\n",
       "<table border=\"1\" class=\"dataframe\">\n",
       "  <thead>\n",
       "    <tr style=\"text-align: right;\">\n",
       "      <th></th>\n",
       "      <th>0</th>\n",
       "      <th>1</th>\n",
       "    </tr>\n",
       "  </thead>\n",
       "  <tbody>\n",
       "    <tr>\n",
       "      <th>63482</th>\n",
       "      <td>RT</td>\n",
       "      <td>202294</td>\n",
       "    </tr>\n",
       "    <tr>\n",
       "      <th>76018</th>\n",
       "      <td>Thanksgiving</td>\n",
       "      <td>158449</td>\n",
       "    </tr>\n",
       "    <tr>\n",
       "      <th>227854</th>\n",
       "      <td>thanksgiving</td>\n",
       "      <td>60299</td>\n",
       "    </tr>\n",
       "    <tr>\n",
       "      <th>35258</th>\n",
       "      <td>Happy</td>\n",
       "      <td>19043</td>\n",
       "    </tr>\n",
       "    <tr>\n",
       "      <th>79611</th>\n",
       "      <td>Trump</td>\n",
       "      <td>18157</td>\n",
       "    </tr>\n",
       "    <tr>\n",
       "      <th>102436</th>\n",
       "      <td>days</td>\n",
       "      <td>18062</td>\n",
       "    </tr>\n",
       "    <tr>\n",
       "      <th>242486</th>\n",
       "      <td>の</td>\n",
       "      <td>17580</td>\n",
       "    </tr>\n",
       "    <tr>\n",
       "      <th>237156</th>\n",
       "      <td>year</td>\n",
       "      <td>17298</td>\n",
       "    </tr>\n",
       "    <tr>\n",
       "      <th>235788</th>\n",
       "      <td>will</td>\n",
       "      <td>16145</td>\n",
       "    </tr>\n",
       "    <tr>\n",
       "      <th>108855</th>\n",
       "      <td>family</td>\n",
       "      <td>15372</td>\n",
       "    </tr>\n",
       "  </tbody>\n",
       "</table>\n",
       "</div>"
      ],
      "text/plain": [
       "                   0       1\n",
       "63482             RT  202294\n",
       "76018   Thanksgiving  158449\n",
       "227854  thanksgiving   60299\n",
       "35258          Happy   19043\n",
       "79611          Trump   18157\n",
       "102436          days   18062\n",
       "242486             の   17580\n",
       "237156          year   17298\n",
       "235788          will   16145\n",
       "108855        family   15372"
      ]
     },
     "execution_count": 126,
     "metadata": {},
     "output_type": "execute_result"
    }
   ],
   "source": [
    "# Top significant word results\n",
    "table = pd.read_csv('out/thanksgiving-top-word/part-00000', sep=' ', header=None, quoting=3)\n",
    "table.loc[~table[0].str.lower().isin(stopword),:].sort_values(1, ascending=False).head(10)"
   ]
  },
  {
   "cell_type": "markdown",
   "metadata": {},
   "source": [
    "## Word Cloud"
   ]
  },
  {
   "cell_type": "code",
   "execution_count": 127,
   "metadata": {},
   "outputs": [],
   "source": [
    "text_thanksgiving = ''\n",
    "sorted_table = table.loc[~table[0].str.lower().isin(stopword),:].sort_values(1, ascending=False).head(50)\n",
    "for word in sorted_table[0]:\n",
    "    text_thanksgiving = text_thanksgiving + str(word) + ' '"
   ]
  },
  {
   "cell_type": "code",
   "execution_count": 131,
   "metadata": {},
   "outputs": [
    {
     "data": {
      "image/png": "[encoded data removed]",
      "text/plain": [
       "<Figure size 432x288 with 1 Axes>"
      ]
     },
     "metadata": {},
     "output_type": "display_data"
    },
    {
     "data": {
      "image/png": "[encoded data removed]",
      "text/plain": [
       "<Figure size 432x288 with 1 Axes>"
      ]
     },
     "metadata": {},
     "output_type": "display_data"
    }
   ],
   "source": [
    "# Generate a word cloud image\n",
    "wordcloud_bitcoin = WordCloud().generate(text_bitcoin)\n",
    "\n",
    "# Display the generated image:\n",
    "# the matplotlib way:\n",
    "import matplotlib.pyplot as plt\n",
    "plt.imshow(wordcloud_bitcoin, interpolation='bilinear')\n",
    "plt.axis(\"off\")\n",
    "\n",
    "# lower max_font_size\n",
    "wordcloud_thanksgiving = WordCloud().generate(text_thanksgiving)\n",
    "plt.figure()\n",
    "plt.imshow(wordcloud_thanksgiving, interpolation=\"bilinear\")\n",
    "plt.axis(\"off\")\n",
    "plt.show()"
   ]
  },
  {
   "cell_type": "markdown",
   "metadata": {},
   "source": [
    "&copy; 2018, Tai Yang, Ruixuan Song"
   ]
  }
 ],
 "metadata": {
  "kernelspec": {
   "display_name": "Python 3",
   "language": "python",
   "name": "python3"
  },
  "language_info": {
   "codemirror_mode": {
    "name": "ipython",
    "version": 3
   },
   "file_extension": ".py",
   "mimetype": "text/x-python",
   "name": "python",
   "nbconvert_exporter": "python",
   "pygments_lexer": "ipython3",
   "version": "3.6.5"
  }
 },
 "nbformat": 4,
 "nbformat_minor": 2
}
